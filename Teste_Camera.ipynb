{
  "nbformat": 4,
  "nbformat_minor": 0,
  "metadata": {
    "colab": {
      "name": "Teste-Camera.ipynb",
      "provenance": [],
      "include_colab_link": true
    },
    "kernelspec": {
      "name": "python3",
      "display_name": "Python 3"
    }
  },
  "cells": [
    {
      "cell_type": "markdown",
      "metadata": {
        "id": "view-in-github",
        "colab_type": "text"
      },
      "source": [
        "<a href=\"https://colab.research.google.com/github/henrique97-hub/ia_testeCamera/blob/main/Teste_Camera.ipynb\" target=\"_parent\"><img src=\"https://colab.research.google.com/assets/colab-badge.svg\" alt=\"Open In Colab\"/></a>"
      ]
    },
    {
      "cell_type": "code",
      "metadata": {
        "id": "WyIC-6j7NKdP",
        "outputId": "8d907a00-fad0-42c0-ef20-41bd69ea4e47",
        "colab": {
          "base_uri": "https://localhost:8080/",
          "height": 680
        }
      },
      "source": [
        "!sudo apt install tesseract-ocr\n"
      ],
      "execution_count": 2,
      "outputs": [
        {
          "output_type": "stream",
          "text": [
            "Reading package lists... Done\n",
            "Building dependency tree       \n",
            "Reading state information... Done\n",
            "The following additional packages will be installed:\n",
            "  tesseract-ocr-eng tesseract-ocr-osd\n",
            "The following NEW packages will be installed:\n",
            "  tesseract-ocr tesseract-ocr-eng tesseract-ocr-osd\n",
            "0 upgraded, 3 newly installed, 0 to remove and 21 not upgraded.\n",
            "Need to get 4,795 kB of archives.\n",
            "After this operation, 15.8 MB of additional disk space will be used.\n",
            "Get:1 http://archive.ubuntu.com/ubuntu bionic/universe amd64 tesseract-ocr-eng all 4.00~git24-0e00fe6-1.2 [1,588 kB]\n",
            "Get:2 http://archive.ubuntu.com/ubuntu bionic/universe amd64 tesseract-ocr-osd all 4.00~git24-0e00fe6-1.2 [2,989 kB]\n",
            "Get:3 http://archive.ubuntu.com/ubuntu bionic/universe amd64 tesseract-ocr amd64 4.00~git2288-10f4998a-2 [218 kB]\n",
            "Fetched 4,795 kB in 1s (4,692 kB/s)\n",
            "debconf: unable to initialize frontend: Dialog\n",
            "debconf: (No usable dialog-like program is installed, so the dialog based frontend cannot be used. at /usr/share/perl5/Debconf/FrontEnd/Dialog.pm line 76, <> line 3.)\n",
            "debconf: falling back to frontend: Readline\n",
            "debconf: unable to initialize frontend: Readline\n",
            "debconf: (This frontend requires a controlling tty.)\n",
            "debconf: falling back to frontend: Teletype\n",
            "dpkg-preconfigure: unable to re-open stdin: \n",
            "Selecting previously unselected package tesseract-ocr-eng.\n",
            "(Reading database ... 144611 files and directories currently installed.)\n",
            "Preparing to unpack .../tesseract-ocr-eng_4.00~git24-0e00fe6-1.2_all.deb ...\n",
            "Unpacking tesseract-ocr-eng (4.00~git24-0e00fe6-1.2) ...\n",
            "Selecting previously unselected package tesseract-ocr-osd.\n",
            "Preparing to unpack .../tesseract-ocr-osd_4.00~git24-0e00fe6-1.2_all.deb ...\n",
            "Unpacking tesseract-ocr-osd (4.00~git24-0e00fe6-1.2) ...\n",
            "Selecting previously unselected package tesseract-ocr.\n",
            "Preparing to unpack .../tesseract-ocr_4.00~git2288-10f4998a-2_amd64.deb ...\n",
            "Unpacking tesseract-ocr (4.00~git2288-10f4998a-2) ...\n",
            "Setting up tesseract-ocr-osd (4.00~git24-0e00fe6-1.2) ...\n",
            "Setting up tesseract-ocr-eng (4.00~git24-0e00fe6-1.2) ...\n",
            "Setting up tesseract-ocr (4.00~git2288-10f4998a-2) ...\n",
            "Processing triggers for man-db (2.8.3-2ubuntu0.1) ...\n"
          ],
          "name": "stdout"
        }
      ]
    },
    {
      "cell_type": "code",
      "metadata": {
        "id": "Z2Ev-c_ROkfL",
        "outputId": "f63d1256-4b27-4d0e-c078-c3c2ff8268c7",
        "colab": {
          "base_uri": "https://localhost:8080/",
          "height": 221
        }
      },
      "source": [
        "!pip install pytesseract\n"
      ],
      "execution_count": 3,
      "outputs": [
        {
          "output_type": "stream",
          "text": [
            "Collecting pytesseract\n",
            "  Downloading https://files.pythonhosted.org/packages/17/4b/4dbd55388225bb6cd243d21f70e77cb3ce061e241257485936324b8e920f/pytesseract-0.3.6.tar.gz\n",
            "Requirement already satisfied: Pillow in /usr/local/lib/python3.6/dist-packages (from pytesseract) (7.0.0)\n",
            "Building wheels for collected packages: pytesseract\n",
            "  Building wheel for pytesseract (setup.py) ... \u001b[?25l\u001b[?25hdone\n",
            "  Created wheel for pytesseract: filename=pytesseract-0.3.6-py2.py3-none-any.whl size=13629 sha256=a46444160a48c622c8038cdfbaf228af2664f061d0c5da886aa58d57eb727dfa\n",
            "  Stored in directory: /root/.cache/pip/wheels/ee/71/72/b98430261d849ae631e283dfc7ccb456a3fb2ed2205714b63f\n",
            "Successfully built pytesseract\n",
            "Installing collected packages: pytesseract\n",
            "Successfully installed pytesseract-0.3.6\n"
          ],
          "name": "stdout"
        }
      ]
    },
    {
      "cell_type": "code",
      "metadata": {
        "id": "WCn76Q_IOrCh",
        "outputId": "391d918b-103c-4ab2-9e20-66052ee321ea",
        "colab": {
          "base_uri": "https://localhost:8080/",
          "height": 35
        }
      },
      "source": [
        "!pip install pillow\n"
      ],
      "execution_count": 4,
      "outputs": [
        {
          "output_type": "stream",
          "text": [
            "Requirement already satisfied: pillow in /usr/local/lib/python3.6/dist-packages (7.0.0)\n"
          ],
          "name": "stdout"
        }
      ]
    },
    {
      "cell_type": "code",
      "metadata": {
        "id": "c6Wjb0BpVZPV",
        "outputId": "a60c7ff9-aa7d-4949-d91d-d3fbc7ab1593",
        "colab": {
          "base_uri": "https://localhost:8080/",
          "height": 1000
        }
      },
      "source": [
        "!sudo apt-get install tesseract-ocr-[por]"
      ],
      "execution_count": 5,
      "outputs": [
        {
          "output_type": "stream",
          "text": [
            "Reading package lists... Done\n",
            "Building dependency tree       \n",
            "Reading state information... Done\n",
            "Note, selecting 'tesseract-ocr-oci' for regex 'tesseract-ocr-[por]'\n",
            "Note, selecting 'tesseract-ocr-ori' for regex 'tesseract-ocr-[por]'\n",
            "Note, selecting 'tesseract-ocr-osd' for regex 'tesseract-ocr-[por]'\n",
            "Note, selecting 'tesseract-ocr-pan' for regex 'tesseract-ocr-[por]'\n",
            "Note, selecting 'tesseract-ocr-pol' for regex 'tesseract-ocr-[por]'\n",
            "Note, selecting 'tesseract-ocr-por' for regex 'tesseract-ocr-[por]'\n",
            "Note, selecting 'tesseract-ocr-pus' for regex 'tesseract-ocr-[por]'\n",
            "Note, selecting 'tesseract-ocr-ron' for regex 'tesseract-ocr-[por]'\n",
            "Note, selecting 'tesseract-ocr-rus' for regex 'tesseract-ocr-[por]'\n",
            "tesseract-ocr-osd is already the newest version (4.00~git24-0e00fe6-1.2).\n",
            "tesseract-ocr-osd set to manually installed.\n",
            "The following NEW packages will be installed:\n",
            "  tesseract-ocr-oci tesseract-ocr-ori tesseract-ocr-pan tesseract-ocr-pol\n",
            "  tesseract-ocr-por tesseract-ocr-pus tesseract-ocr-ron tesseract-ocr-rus\n",
            "0 upgraded, 8 newly installed, 0 to remove and 21 not upgraded.\n",
            "Need to get 9,992 kB of archives.\n",
            "After this operation, 23.2 MB of additional disk space will be used.\n",
            "Get:1 http://archive.ubuntu.com/ubuntu bionic/universe amd64 tesseract-ocr-oci all 4.00~git24-0e00fe6-1.2 [2,599 kB]\n",
            "Get:2 http://archive.ubuntu.com/ubuntu bionic/universe amd64 tesseract-ocr-ori all 4.00~git24-0e00fe6-1.2 [1,024 kB]\n",
            "Get:3 http://archive.ubuntu.com/ubuntu bionic/universe amd64 tesseract-ocr-pan all 4.00~git24-0e00fe6-1.2 [322 kB]\n",
            "Get:4 http://archive.ubuntu.com/ubuntu bionic/universe amd64 tesseract-ocr-pol all 4.00~git24-0e00fe6-1.2 [1,609 kB]\n",
            "Get:5 http://archive.ubuntu.com/ubuntu bionic/universe amd64 tesseract-ocr-por all 4.00~git24-0e00fe6-1.2 [856 kB]\n",
            "Get:6 http://archive.ubuntu.com/ubuntu bionic/universe amd64 tesseract-ocr-pus all 4.00~git24-0e00fe6-1.2 [1,414 kB]\n",
            "Get:7 http://archive.ubuntu.com/ubuntu bionic/universe amd64 tesseract-ocr-ron all 4.00~git24-0e00fe6-1.2 [896 kB]\n",
            "Get:8 http://archive.ubuntu.com/ubuntu bionic/universe amd64 tesseract-ocr-rus all 4.00~git24-0e00fe6-1.2 [1,272 kB]\n",
            "Fetched 9,992 kB in 1s (8,565 kB/s)\n",
            "debconf: unable to initialize frontend: Dialog\n",
            "debconf: (No usable dialog-like program is installed, so the dialog based frontend cannot be used. at /usr/share/perl5/Debconf/FrontEnd/Dialog.pm line 76, <> line 8.)\n",
            "debconf: falling back to frontend: Readline\n",
            "debconf: unable to initialize frontend: Readline\n",
            "debconf: (This frontend requires a controlling tty.)\n",
            "debconf: falling back to frontend: Teletype\n",
            "dpkg-preconfigure: unable to re-open stdin: \n",
            "Selecting previously unselected package tesseract-ocr-oci.\n",
            "(Reading database ... 144658 files and directories currently installed.)\n",
            "Preparing to unpack .../0-tesseract-ocr-oci_4.00~git24-0e00fe6-1.2_all.deb ...\n",
            "Unpacking tesseract-ocr-oci (4.00~git24-0e00fe6-1.2) ...\n",
            "Selecting previously unselected package tesseract-ocr-ori.\n",
            "Preparing to unpack .../1-tesseract-ocr-ori_4.00~git24-0e00fe6-1.2_all.deb ...\n",
            "Unpacking tesseract-ocr-ori (4.00~git24-0e00fe6-1.2) ...\n",
            "Selecting previously unselected package tesseract-ocr-pan.\n",
            "Preparing to unpack .../2-tesseract-ocr-pan_4.00~git24-0e00fe6-1.2_all.deb ...\n",
            "Unpacking tesseract-ocr-pan (4.00~git24-0e00fe6-1.2) ...\n",
            "Selecting previously unselected package tesseract-ocr-pol.\n",
            "Preparing to unpack .../3-tesseract-ocr-pol_4.00~git24-0e00fe6-1.2_all.deb ...\n",
            "Unpacking tesseract-ocr-pol (4.00~git24-0e00fe6-1.2) ...\n",
            "Selecting previously unselected package tesseract-ocr-por.\n",
            "Preparing to unpack .../4-tesseract-ocr-por_4.00~git24-0e00fe6-1.2_all.deb ...\n",
            "Unpacking tesseract-ocr-por (4.00~git24-0e00fe6-1.2) ...\n",
            "Selecting previously unselected package tesseract-ocr-pus.\n",
            "Preparing to unpack .../5-tesseract-ocr-pus_4.00~git24-0e00fe6-1.2_all.deb ...\n",
            "Unpacking tesseract-ocr-pus (4.00~git24-0e00fe6-1.2) ...\n",
            "Selecting previously unselected package tesseract-ocr-ron.\n",
            "Preparing to unpack .../6-tesseract-ocr-ron_4.00~git24-0e00fe6-1.2_all.deb ...\n",
            "Unpacking tesseract-ocr-ron (4.00~git24-0e00fe6-1.2) ...\n",
            "Selecting previously unselected package tesseract-ocr-rus.\n",
            "Preparing to unpack .../7-tesseract-ocr-rus_4.00~git24-0e00fe6-1.2_all.deb ...\n",
            "Unpacking tesseract-ocr-rus (4.00~git24-0e00fe6-1.2) ...\n",
            "Setting up tesseract-ocr-oci (4.00~git24-0e00fe6-1.2) ...\n",
            "Setting up tesseract-ocr-ori (4.00~git24-0e00fe6-1.2) ...\n",
            "Setting up tesseract-ocr-rus (4.00~git24-0e00fe6-1.2) ...\n",
            "Setting up tesseract-ocr-ron (4.00~git24-0e00fe6-1.2) ...\n",
            "Setting up tesseract-ocr-pus (4.00~git24-0e00fe6-1.2) ...\n",
            "Setting up tesseract-ocr-pan (4.00~git24-0e00fe6-1.2) ...\n",
            "Setting up tesseract-ocr-por (4.00~git24-0e00fe6-1.2) ...\n",
            "Setting up tesseract-ocr-pol (4.00~git24-0e00fe6-1.2) ...\n"
          ],
          "name": "stdout"
        }
      ]
    },
    {
      "cell_type": "code",
      "metadata": {
        "id": "GPiogNKsOv1J"
      },
      "source": [
        "import pytesseract\n",
        "import shutil\n",
        "import os\n",
        "import random\n",
        "try:\n",
        " from PIL import Image, ImageEnhance, ImageFilter\n",
        "except ImportError:\n",
        " import Image\n",
        " \n",
        " \n"
      ],
      "execution_count": 9,
      "outputs": []
    },
    {
      "cell_type": "code",
      "metadata": {
        "id": "025DLlZlJ3Ei",
        "outputId": "ca374ba6-3b52-4e2d-940c-47c7d420abd1",
        "colab": {
          "base_uri": "https://localhost:8080/",
          "height": 35
        }
      },
      "source": [
        "# Teste1\n",
        "\n",
        "# imagem =  Image.open('/content/camera1.PNG')\n",
        "# img = imagem.convert('RGBA')\n",
        "# img.save('camera1pb.PNG')\n",
        "# im = Image.open('camera1pb.PNG')\n",
        "# im = im.filter(ImageFilter.MedianFilter())\n",
        "# enhancer = ImageEnhance.Contrast(im)\n",
        "# im = enhancer.enhance(2)\n",
        "# im = im.convert('1')\n",
        "# im.save('temp2.jpg')\n",
        "# text = pytesseract.image_to_string(Image.open('temp2.jpg'))\n",
        "# print(text)\n",
        "\n",
        "# Testes Henrique\n",
        "import numpy as np\n",
        "import cv2 as cv\n",
        "#Read image\n",
        "img = cv.imread('/content/teste.PNG',0)\n",
        "#Equalize intensity throught image\n",
        "hist= cv.equalizeHist(img)\n",
        "#Find edges\n",
        "edges = cv.Canny(hist,70,200)\n",
        "# Create kernel\n",
        "kernel = np.ones((3,3),np.uint8)\n",
        "# Enhance edges\n",
        "gradient = cv.morphologyEx(edges, cv.MORPH_GRADIENT, kernel)\n",
        "# Apply close morph to fill holes\n",
        "closing = cv.morphologyEx(gradient, cv.MORPH_CLOSE, kernel,iterations=5)\n",
        "# Find all contours in mask\n",
        "contours, hier = cv.findContours(closing, cv.RETR_TREE, cv.CHAIN_APPROX_SIMPLE)\n",
        "# Create emtpy mask\n",
        "mask = np.zeros(img.shape[:2], dtype=img.dtype)\n",
        "# Draw all contours smaller than 2500 on the mask\n",
        "for c in contours:\n",
        "    if cv.contourArea(c) < 2500:\n",
        "        x, y, w, h = cv.boundingRect(c)\n",
        "        cv.drawContours(mask, [c], 0, (255), -1)\n",
        "# Dilate to increase region\n",
        "mask = cv.morphologyEx(mask, cv.MORPH_DILATE, kernel,iterations=6)        \n",
        "# Apply mask and obtain region of interest\n",
        "region_of_interest = cv.bitwise_and(img,img, mask= mask)\n",
        "# Distribute intesity again\n",
        "clahe = cv.createCLAHE(clipLimit=2.0, tileGridSize=(8,8))\n",
        "clahe_result = clahe.apply(region_of_interest)\n",
        "# Write output\n",
        "cv.imwrite(\"output.jpg\",clahe_result)\n",
        "\n",
        "\n"
      ],
      "execution_count": 11,
      "outputs": [
        {
          "output_type": "execute_result",
          "data": {
            "text/plain": [
              "True"
            ]
          },
          "metadata": {
            "tags": []
          },
          "execution_count": 11
        }
      ]
    },
    {
      "cell_type": "code",
      "metadata": {
        "id": "dxSWWe4zPhCq"
      },
      "source": [
        "# extractedInformation = pytesseract.image_to_string(Image.open('/content/texto1.jpeg'))\n",
        "# print(extractedInformation)"
      ],
      "execution_count": null,
      "outputs": []
    },
    {
      "cell_type": "code",
      "metadata": {
        "id": "Tt7t2yseAkNu"
      },
      "source": [
        "# !pip install opencv"
      ],
      "execution_count": null,
      "outputs": []
    },
    {
      "cell_type": "code",
      "metadata": {
        "id": "kvFi2gdnQnMx"
      },
      "source": [
        "import cv2"
      ],
      "execution_count": null,
      "outputs": []
    },
    {
      "cell_type": "code",
      "metadata": {
        "id": "cl_1h-QoQbuT",
        "outputId": "a94fa4dc-ab2a-4e47-86b2-797c9b8e260a",
        "colab": {
          "base_uri": "https://localhost:8080/",
          "height": 127
        }
      },
      "source": [
        "# Grayscale, Gaussian blur, Otsu's threshold\n",
        "image = cv2.imread('/content/output.jpg')\n",
        "gray = cv2.cvtColor(image, cv2.COLOR_BGR2GRAY) \n",
        "blur = cv2.GaussianBlur(gray, (3,3), 0) \n",
        "thresh = cv2.threshold(blur, 0, 255, cv2.THRESH_BINARY_INV + cv2.THRESH_OTSU)[1] \n",
        "\n",
        "# Morph open to remove noise and invert image - tirar os comentarios, para ver os filtros\n",
        "#kernel = cv2.getStructuringElement(cv2.MORPH_RECT, (3,3)) \n",
        "#opening = cv2.morphologyEx(thresh, cv2.MORPH_OPEN, kernel, iterations=1) \n",
        "#invert = 255 - opening \n",
        "\n",
        "\n",
        "# Perform text extraction\n",
        "data = pytesseract.image_to_string('/content/output.jpg', lang='por', config='--psm 6',)\n",
        "print(data)\n",
        "\n",
        "# Testes Henrique\n",
        "\n",
        "#cv2_imshow(invert)\n",
        "#cv2_imshow(opening)\n",
        "#cv2_imshow(kernel)\n",
        "\n",
        " #cv2.imshow('thresh', thresh)\n",
        " #cv2.imshow('opening', opening)\n",
        " #cv2.imshow('invert', invert)\n",
        " #cv2.waitKey()"
      ],
      "execution_count": 12,
      "outputs": [
        {
          "output_type": "stream",
          "text": [
            "'* Gare\n",
            "a\n",
            "a\n",
            "\n",
            "[|]\n",
            "\f\n"
          ],
          "name": "stdout"
        }
      ]
    },
    {
      "cell_type": "code",
      "metadata": {
        "id": "VXTchyO_OwQB",
        "outputId": "2270b21a-66a8-49a6-e544-90886c613858",
        "colab": {
          "base_uri": "https://localhost:8080/",
          "height": 320
        }
      },
      "source": [
        "# Vizualização de imagem\n",
        "from google.colab.patches import cv2_imshow\n",
        "import cv2\n",
        "img = cv2.imread('/content/output.jpg', cv2.IMREAD_UNCHANGED)\n",
        "cv2_imshow(img)\n"
      ],
      "execution_count": 13,
      "outputs": [
        {
          "output_type": "display_data",
          "data": {
            "image/png": "[encoded data removed]",
            "text/plain": [
              "<PIL.Image.Image image mode=L size=385x303 at 0x7F51191D6470>"
            ]
          },
          "metadata": {
            "tags": []
          }
        }
      ]
    },
    {
      "cell_type": "code",
      "metadata": {
        "id": "XP2gm71ANC4m"
      },
      "source": [
        " !tesseract --list-langs"
      ],
      "execution_count": null,
      "outputs": []
    }
  ]
}